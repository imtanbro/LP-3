{
 "cells": [
  {
   "cell_type": "code",
   "execution_count": 2,
   "id": "11500e79-8b90-4ce0-9917-92c439cd6ce4",
   "metadata": {},
   "outputs": [],
   "source": [
    "import pandas as pd\n",
    "import numpy as np\n",
    "import matplotlib.pyplot as plt"
   ]
  },
  {
   "cell_type": "code",
   "execution_count": 2,
   "id": "ce607225-01d9-4103-a6c2-c2aed0c57d2f",
   "metadata": {},
   "outputs": [
    {
     "data": {
      "text/plain": [
       "<matplotlib.collections.PathCollection at 0x19b16105630>"
      ]
     },
     "execution_count": 2,
     "metadata": {},
     "output_type": "execute_result"
    },
    {
     "data": {
      "image/png": "[encoded data removed]",
      "text/plain": [
       "<Figure size 432x288 with 1 Axes>"
      ]
     },
     "metadata": {
      "needs_background": "light"
     },
     "output_type": "display_data"
    }
   ],
   "source": [
    "x = np.array([10,9,2,15,10,16,11,16])\n",
    "y = np.array([95,80,10,50,45,98,38,93])\n",
    "plt.scatter(x,y)"
   ]
  },
  {
   "cell_type": "code",
   "execution_count": 4,
   "id": "59be9a51-d3d2-4026-b691-ad312c7719c0",
   "metadata": {},
   "outputs": [],
   "source": [
    "def estimate_coefficient(x,y):\n",
    "    N = np.size(x)\n",
    "    x_mean, y_mean = np.mean(x),np.mean(y)\n",
    "    \n",
    "    ss_xy = np.sum(x*y)-N*x_mean*y_mean\n",
    "    ss_xx = np.sum(x*x)-N*x_mean*x_mean\n",
    "    \n",
    "    b1 = ss_xy/ss_xx\n",
    "    b0 = y_mean - b1*x_mean\n",
    "    \n",
    "    return (b0,b1)"
   ]
  },
  {
   "cell_type": "code",
   "execution_count": 5,
   "id": "70158bf0-5a78-4657-9cdf-088b802cf7cd",
   "metadata": {},
   "outputs": [],
   "source": [
    "def plot_line(x,y,b):\n",
    "    plt.scatter(x,y, color=\"m\", marker=\"o\",s=30)\n",
    "    \n",
    "    y_pred = b[0]+b[1]*x\n",
    "    \n",
    "    plt.plot(x,y_pred,color=\"g\")\n",
    "    plt.show()"
   ]
  },
  {
   "cell_type": "code",
   "execution_count": 6,
   "id": "b5d211f7-c0a0-4b78-b90b-e1a29b2203ca",
   "metadata": {},
   "outputs": [],
   "source": [
    "b = estimate_coefficient(x,y)"
   ]
  },
  {
   "cell_type": "code",
   "execution_count": 7,
   "id": "94a09410-5cb2-4dd4-8990-7e2f2678d009",
   "metadata": {},
   "outputs": [
    {
     "data": {
      "image/png": "[encoded data removed]",
      "text/plain": [
       "<Figure size 432x288 with 1 Axes>"
      ]
     },
     "metadata": {
      "needs_background": "light"
     },
     "output_type": "display_data"
    }
   ],
   "source": [
    "plot_line(x,y,b)"
   ]
  },
  {
   "cell_type": "code",
   "execution_count": 3,
   "id": "07afa87b-9759-46df-abeb-2d2eaf46d002",
   "metadata": {},
   "outputs": [],
   "source": [
    "x = np.array([[10],[9],[2],[15],[10],[16],[11],[16]])\n",
    "y = np.array([[95],[80],[10],[50],[45],[98],[38],[93]])"
   ]
  },
  {
   "cell_type": "code",
   "execution_count": 4,
   "id": "71b150b7-c878-47d2-b0f4-2f741a407c12",
   "metadata": {},
   "outputs": [
    {
     "data": {
      "text/plain": [
       "LinearRegression()"
      ]
     },
     "execution_count": 4,
     "metadata": {},
     "output_type": "execute_result"
    }
   ],
   "source": [
    "from sklearn.linear_model import LinearRegression\n",
    "model = LinearRegression()\n",
    "model.fit(x,y)"
   ]
  },
  {
   "cell_type": "code",
   "execution_count": 5,
   "id": "b8016725-eb81-43fa-aac9-7593500451b7",
   "metadata": {},
   "outputs": [],
   "source": [
    "y_pred = model.predict(x)"
   ]
  },
  {
   "cell_type": "code",
   "execution_count": 6,
   "id": "3e670a15-1301-4b6e-96d5-4cfce17ce938",
   "metadata": {},
   "outputs": [
    {
     "data": {
      "text/plain": [
       "[<matplotlib.lines.Line2D at 0x21f2f2a3ac0>]"
      ]
     },
     "execution_count": 6,
     "metadata": {},
     "output_type": "execute_result"
    },
    {
     "data": {
      "image/png": "[encoded data removed]",
      "text/plain": [
       "<Figure size 432x288 with 1 Axes>"
      ]
     },
     "metadata": {
      "needs_background": "light"
     },
     "output_type": "display_data"
    }
   ],
   "source": [
    "plt.plot(x,y,\"*\")\n",
    "plt.plot(x,y_pred,color=\"g\")"
   ]
  },
  {
   "cell_type": "code",
   "execution_count": null,
   "id": "03af5969-efbb-43a7-9cd8-9b5474cdbe89",
   "metadata": {},
   "outputs": [],
   "source": []
  }
 ],
 "metadata": {
  "kernelspec": {
   "display_name": "Python 3 (ipykernel)",
   "language": "python",
   "name": "python3"
  },
  "language_info": {
   "codemirror_mode": {
    "name": "ipython",
    "version": 3
   },
   "file_extension": ".py",
   "mimetype": "text/x-python",
   "name": "python",
   "nbconvert_exporter": "python",
   "pygments_lexer": "ipython3",
   "version": "3.9.7"
  }
 },
 "nbformat": 4,
 "nbformat_minor": 5
}
